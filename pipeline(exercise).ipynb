{
  "nbformat": 4,
  "nbformat_minor": 0,
  "metadata": {
    "colab": {
      "name": "pipeline(exercise).ipynb",
      "provenance": [],
      "authorship_tag": "ABX9TyMfNkJQFpNZjafKmlSYciPL"
    },
    "kernelspec": {
      "name": "python3",
      "display_name": "Python 3"
    }
  },
  "cells": [
    {
      "cell_type": "markdown",
      "metadata": {
        "id": "hAYxFmWqYmh6",
        "colab_type": "text"
      },
      "source": [
        "## **Automate Machine Learning Workflows with Pipelines using scikit-learn**\n",
        "* There are standard workflows in a machine learning project that can be automated.\n",
        "\n",
        "* In Python scikit-learn, Pipelines help to to clearly define and automate these workflows."
      ]
    },
    {
      "cell_type": "markdown",
      "metadata": {
        "id": "HFEt5Ai_nNbX",
        "colab_type": "text"
      },
      "source": [
        "##**Create a pipeline that standardizes the data,extracts the features  then creates a model**"
      ]
    },
    {
      "cell_type": "markdown",
      "metadata": {
        "id": "DtvB1fejUAvp",
        "colab_type": "text"
      },
      "source": [
        "## **Importing Libraries**"
      ]
    },
    {
      "cell_type": "code",
      "metadata": {
        "id": "DWjEKXMbUJW-",
        "colab_type": "code",
        "colab": {}
      },
      "source": [
        "#import pandas,sklearn libraries for model preprocessing,pca,logisticregression"
      ],
      "execution_count": 0,
      "outputs": []
    },
    {
      "cell_type": "markdown",
      "metadata": {
        "id": "kY9EyBpGUA9y",
        "colab_type": "text"
      },
      "source": [
        "## **Read dataset using pandas into a dataframe**"
      ]
    },
    {
      "cell_type": "code",
      "metadata": {
        "id": "L0YQjgTDVtg4",
        "colab_type": "code",
        "colab": {}
      },
      "source": [
        "#TODO:read data"
      ],
      "execution_count": 0,
      "outputs": []
    },
    {
      "cell_type": "code",
      "metadata": {
        "id": "XyOW2OKtV5cs",
        "colab_type": "code",
        "colab": {}
      },
      "source": [
        "#TODO: assign x and y for data."
      ],
      "execution_count": 0,
      "outputs": []
    },
    {
      "cell_type": "markdown",
      "metadata": {
        "id": "CAZ9XVkaUA7L",
        "colab_type": "text"
      },
      "source": [
        "## **List of Estimators in the pipeline**\n",
        "* Create an empty list of Estimators\n",
        "  * append StandardScaler for data normalisation\n",
        "\n",
        "  * Create a Feature Union: \n",
        "      * append PCA (Feature Extraction with Principal Component Analysis (3 features)) to feature union list\n",
        "      * apppend Select-K-best (Feature Extraction with Statistical Selection (6 features)) to feature union list\n",
        "\n",
        "  * append Feature Union to Estimators\n",
        "  * append logistic regression(any binary classification model)"
      ]
    },
    {
      "cell_type": "code",
      "metadata": {
        "id": "ROWl87A-Xh-9",
        "colab_type": "code",
        "colab": {}
      },
      "source": [
        "# TODO : estimators"
      ],
      "execution_count": 0,
      "outputs": []
    },
    {
      "cell_type": "markdown",
      "metadata": {
        "id": "wTkH0eDsUA5W",
        "colab_type": "text"
      },
      "source": [
        "## **Instantiate the pipeline**"
      ]
    },
    {
      "cell_type": "code",
      "metadata": {
        "id": "0ZY4NoUYXr4K",
        "colab_type": "code",
        "colab": {}
      },
      "source": [
        "#TODO:Instantiate a pipeline with estimators"
      ],
      "execution_count": 0,
      "outputs": []
    },
    {
      "cell_type": "markdown",
      "metadata": {
        "id": "_KXShW0DUA3Q",
        "colab_type": "text"
      },
      "source": [
        "# **Evaluate pipeline**"
      ]
    },
    {
      "cell_type": "code",
      "metadata": {
        "id": "6loPHsRVYqtF",
        "colab_type": "code",
        "colab": {}
      },
      "source": [
        "#TODO : Evaluate the pipeline using kfold cross validation"
      ],
      "execution_count": 0,
      "outputs": []
    },
    {
      "cell_type": "markdown",
      "metadata": {
        "id": "govi7UydUA08",
        "colab_type": "text"
      },
      "source": [
        ""
      ]
    },
    {
      "cell_type": "code",
      "metadata": {
        "id": "vp6LrYzOZB9-",
        "colab_type": "code",
        "colab": {}
      },
      "source": [
        ""
      ],
      "execution_count": 0,
      "outputs": []
    }
  ]
}