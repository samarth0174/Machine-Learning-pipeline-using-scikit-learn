{
  "nbformat": 4,
  "nbformat_minor": 0,
  "metadata": {
    "colab": {
      "name": "pipeline(soln).ipynb",
      "provenance": [],
      "toc_visible": true,
      "authorship_tag": "ABX9TyMOrqjQEaseTznx8MAX67sL"
    },
    "kernelspec": {
      "name": "python3",
      "display_name": "Python 3"
    }
  },
  "cells": [
    {
      "cell_type": "markdown",
      "metadata": {
        "id": "hAYxFmWqYmh6",
        "colab_type": "text"
      },
      "source": [
        "## **Automate Machine Learning Workflows with Pipelines using scikit-learn**\n",
        "* There are standard workflows in a machine learning project that can be automated.\n",
        "\n",
        "* In Python scikit-learn, Pipelines help to to clearly define and automate these workflows."
      ]
    },
    {
      "cell_type": "markdown",
      "metadata": {
        "id": "HFEt5Ai_nNbX",
        "colab_type": "text"
      },
      "source": [
        "##**Create a pipeline that standardizes the data,extracts the features  then creates a model**"
      ]
    },
    {
      "cell_type": "markdown",
      "metadata": {
        "id": "DtvB1fejUAvp",
        "colab_type": "text"
      },
      "source": [
        "## **Importing Libraries**"
      ]
    },
    {
      "cell_type": "code",
      "metadata": {
        "id": "DWjEKXMbUJW-",
        "colab_type": "code",
        "colab": {}
      },
      "source": [
        "#import pandas,sklearn libraries for model preprocessing,pca,logisticregression\n",
        "import pandas as pd\n",
        "from sklearn.model_selection import KFold\n",
        "from sklearn.model_selection import cross_val_score\n",
        "from sklearn.pipeline import Pipeline\n",
        "from sklearn.pipeline import FeatureUnion\n",
        "from sklearn.linear_model import LogisticRegression\n",
        "from sklearn.preprocessing import StandardScaler\n",
        "from sklearn.decomposition import PCA\n",
        "from sklearn.feature_selection import SelectKBest"
      ],
      "execution_count": 0,
      "outputs": []
    },
    {
      "cell_type": "markdown",
      "metadata": {
        "id": "kY9EyBpGUA9y",
        "colab_type": "text"
      },
      "source": [
        "## **Read dataset using pandas into a dataframe**"
      ]
    },
    {
      "cell_type": "code",
      "metadata": {
        "id": "L0YQjgTDVtg4",
        "colab_type": "code",
        "colab": {
          "base_uri": "https://localhost:8080/",
          "height": 206
        },
        "outputId": "4bc81b6f-710c-4739-bb82-977e4fcf5386"
      },
      "source": [
        "#TODO:read data\n",
        "dataframe = pd.read_csv(\"/content/diabetes.csv\")\n",
        "dataframe.head()"
      ],
      "execution_count": 8,
      "outputs": [
        {
          "output_type": "execute_result",
          "data": {
            "text/html": [
              "<div>\n",
              "<style scoped>\n",
              "    .dataframe tbody tr th:only-of-type {\n",
              "        vertical-align: middle;\n",
              "    }\n",
              "\n",
              "    .dataframe tbody tr th {\n",
              "        vertical-align: top;\n",
              "    }\n",
              "\n",
              "    .dataframe thead th {\n",
              "        text-align: right;\n",
              "    }\n",
              "</style>\n",
              "<table border=\"1\" class=\"dataframe\">\n",
              "  <thead>\n",
              "    <tr style=\"text-align: right;\">\n",
              "      <th></th>\n",
              "      <th>Pregnancies</th>\n",
              "      <th>Glucose</th>\n",
              "      <th>BloodPressure</th>\n",
              "      <th>SkinThickness</th>\n",
              "      <th>Insulin</th>\n",
              "      <th>BMI</th>\n",
              "      <th>DiabetesPedigreeFunction</th>\n",
              "      <th>Age</th>\n",
              "      <th>Outcome</th>\n",
              "    </tr>\n",
              "  </thead>\n",
              "  <tbody>\n",
              "    <tr>\n",
              "      <th>0</th>\n",
              "      <td>6</td>\n",
              "      <td>148</td>\n",
              "      <td>72</td>\n",
              "      <td>35</td>\n",
              "      <td>0</td>\n",
              "      <td>33.6</td>\n",
              "      <td>0.627</td>\n",
              "      <td>50</td>\n",
              "      <td>1</td>\n",
              "    </tr>\n",
              "    <tr>\n",
              "      <th>1</th>\n",
              "      <td>1</td>\n",
              "      <td>85</td>\n",
              "      <td>66</td>\n",
              "      <td>29</td>\n",
              "      <td>0</td>\n",
              "      <td>26.6</td>\n",
              "      <td>0.351</td>\n",
              "      <td>31</td>\n",
              "      <td>0</td>\n",
              "    </tr>\n",
              "    <tr>\n",
              "      <th>2</th>\n",
              "      <td>8</td>\n",
              "      <td>183</td>\n",
              "      <td>64</td>\n",
              "      <td>0</td>\n",
              "      <td>0</td>\n",
              "      <td>23.3</td>\n",
              "      <td>0.672</td>\n",
              "      <td>32</td>\n",
              "      <td>1</td>\n",
              "    </tr>\n",
              "    <tr>\n",
              "      <th>3</th>\n",
              "      <td>1</td>\n",
              "      <td>89</td>\n",
              "      <td>66</td>\n",
              "      <td>23</td>\n",
              "      <td>94</td>\n",
              "      <td>28.1</td>\n",
              "      <td>0.167</td>\n",
              "      <td>21</td>\n",
              "      <td>0</td>\n",
              "    </tr>\n",
              "    <tr>\n",
              "      <th>4</th>\n",
              "      <td>0</td>\n",
              "      <td>137</td>\n",
              "      <td>40</td>\n",
              "      <td>35</td>\n",
              "      <td>168</td>\n",
              "      <td>43.1</td>\n",
              "      <td>2.288</td>\n",
              "      <td>33</td>\n",
              "      <td>1</td>\n",
              "    </tr>\n",
              "  </tbody>\n",
              "</table>\n",
              "</div>"
            ],
            "text/plain": [
              "   Pregnancies  Glucose  BloodPressure  ...  DiabetesPedigreeFunction  Age  Outcome\n",
              "0            6      148             72  ...                     0.627   50        1\n",
              "1            1       85             66  ...                     0.351   31        0\n",
              "2            8      183             64  ...                     0.672   32        1\n",
              "3            1       89             66  ...                     0.167   21        0\n",
              "4            0      137             40  ...                     2.288   33        1\n",
              "\n",
              "[5 rows x 9 columns]"
            ]
          },
          "metadata": {
            "tags": []
          },
          "execution_count": 8
        }
      ]
    },
    {
      "cell_type": "code",
      "metadata": {
        "id": "XyOW2OKtV5cs",
        "colab_type": "code",
        "colab": {}
      },
      "source": [
        "#TODO: assign x and y for data.\n",
        "array = dataframe.values\n",
        "X = array[:,0:8]\n",
        "Y = array[:,8]"
      ],
      "execution_count": 0,
      "outputs": []
    },
    {
      "cell_type": "markdown",
      "metadata": {
        "id": "CAZ9XVkaUA7L",
        "colab_type": "text"
      },
      "source": [
        "## **List of Estimators in the pipeline**\n",
        "* Create an empty list of Estimators\n",
        "  * append StandardScaler for data normalisation\n",
        "\n",
        "  * Create a Feature Union: \n",
        "      * append PCA (Feature Extraction with Principal Component Analysis (3 features)) to feature union list\n",
        "      * apppend Select-K-best (Feature Extraction with Statistical Selection (6 features)) to feature union list\n",
        "\n",
        "  * append Feature Union to Estimators\n",
        "  * append logistic regression(any binary classification model)"
      ]
    },
    {
      "cell_type": "code",
      "metadata": {
        "id": "ROWl87A-Xh-9",
        "colab_type": "code",
        "colab": {}
      },
      "source": [
        "# TODO : estimators\n",
        "\n",
        "## create feature union\n",
        "features = []\n",
        "features.append(('pca', PCA(n_components=3)))\n",
        "features.append(('select_best', SelectKBest(k=6)))\n",
        "feature_union = FeatureUnion(features)\n",
        "\n",
        "## estimators\n",
        "estimators =[]\n",
        "estimators.append(('standardize', StandardScaler()))\n",
        "estimators.append(('feature_union', feature_union))\n",
        "estimators.append(('logistic', LogisticRegression()))\n",
        "\n"
      ],
      "execution_count": 0,
      "outputs": []
    },
    {
      "cell_type": "markdown",
      "metadata": {
        "id": "wTkH0eDsUA5W",
        "colab_type": "text"
      },
      "source": [
        "## **Instantiate the pipeline**"
      ]
    },
    {
      "cell_type": "code",
      "metadata": {
        "id": "0ZY4NoUYXr4K",
        "colab_type": "code",
        "colab": {
          "base_uri": "https://localhost:8080/",
          "height": 451
        },
        "outputId": "5f9ef7d7-ad25-4839-aec2-ae2c1ae785bf"
      },
      "source": [
        "#TODO:Instantiate a pipeline with estimators\n",
        "model = Pipeline(estimators)\n",
        "print(model)"
      ],
      "execution_count": 20,
      "outputs": [
        {
          "output_type": "stream",
          "text": [
            "Pipeline(memory=None,\n",
            "         steps=[('standardize',\n",
            "                 StandardScaler(copy=True, with_mean=True, with_std=True)),\n",
            "                ('feature_union',\n",
            "                 FeatureUnion(n_jobs=None,\n",
            "                              transformer_list=[('pca',\n",
            "                                                 PCA(copy=True,\n",
            "                                                     iterated_power='auto',\n",
            "                                                     n_components=3,\n",
            "                                                     random_state=None,\n",
            "                                                     svd_solver='auto', tol=0.0,\n",
            "                                                     whiten=False)),\n",
            "                                                ('select_best',\n",
            "                                                 SelectKBest(k=6,\n",
            "                                                             score_func=<function f_classif at 0x7f07fec657b8>))],\n",
            "                              transformer_weights=None, verbose=False)),\n",
            "                ('logistic',\n",
            "                 LogisticRegression(C=1.0, class_weight=None, dual=False,\n",
            "                                    fit_intercept=True, intercept_scaling=1,\n",
            "                                    l1_ratio=None, max_iter=100,\n",
            "                                    multi_class='auto', n_jobs=None,\n",
            "                                    penalty='l2', random_state=None,\n",
            "                                    solver='lbfgs', tol=0.0001, verbose=0,\n",
            "                                    warm_start=False))],\n",
            "         verbose=False)\n"
          ],
          "name": "stdout"
        }
      ]
    },
    {
      "cell_type": "markdown",
      "metadata": {
        "id": "_KXShW0DUA3Q",
        "colab_type": "text"
      },
      "source": [
        "# **Evaluate pipeline**"
      ]
    },
    {
      "cell_type": "code",
      "metadata": {
        "id": "6loPHsRVYqtF",
        "colab_type": "code",
        "colab": {
          "base_uri": "https://localhost:8080/",
          "height": 34
        },
        "outputId": "4aa32f07-5647-4b9b-a2fa-c9eb20092eb5"
      },
      "source": [
        "#TODO : Evaluate the pipeline using kfold cross validation\n",
        "\n",
        "kfold = KFold(n_splits=10)\n",
        "results = cross_val_score(model, X, Y, cv=kfold)\n",
        "print(results.mean())"
      ],
      "execution_count": 22,
      "outputs": [
        {
          "output_type": "stream",
          "text": [
            "0.7812542720437458\n"
          ],
          "name": "stdout"
        }
      ]
    },
    {
      "cell_type": "markdown",
      "metadata": {
        "id": "P_g6ajmscUpc",
        "colab_type": "text"
      },
      "source": [
        "our model gives 78% validation accuracy."
      ]
    }
  ]
}